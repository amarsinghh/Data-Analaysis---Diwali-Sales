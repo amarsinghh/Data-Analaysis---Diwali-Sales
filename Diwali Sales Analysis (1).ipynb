{
 "cells": [
  {
   "cell_type": "markdown",
   "id": "9b346117-6fd3-4ab1-a7e5-44f4ebfeedbd",
   "metadata": {},
   "source": [
    "# Diwali Sales Analysis"
   ]
  },
  {
   "cell_type": "code",
   "execution_count": null,
   "id": "929bfd2a-da9e-4c93-86b5-ba5924978a2e",
   "metadata": {},
   "outputs": [],
   "source": [
    "import pandas as pd\n",
    "import numpy as np\n",
    "import matplotlib.pyplot as plt\n",
    "import seaborn as sns"
   ]
  },
  {
   "cell_type": "code",
   "execution_count": null,
   "id": "1aea12ff-7340-4bab-b364-21eae2f74576",
   "metadata": {},
   "outputs": [],
   "source": [
    "df = pd.read_csv(r\"C:\\Users\\HP\\Desktop\\demo\\Diwali Sales Data.csv\",encoding='latin1')\n",
    "pd.set_option('display.max.rows',11252)\n",
    "df"
   ]
  },
  {
   "cell_type": "code",
   "execution_count": null,
   "id": "327ddc41-cf97-4ddd-8bb2-017726c23e50",
   "metadata": {},
   "outputs": [],
   "source": [
    "df.shape"
   ]
  },
  {
   "cell_type": "code",
   "execution_count": null,
   "id": "e3a90f92-cd05-4bc8-9ca2-e9ae559bca2b",
   "metadata": {},
   "outputs": [],
   "source": [
    "df.info()"
   ]
  },
  {
   "cell_type": "code",
   "execution_count": null,
   "id": "bad8e10b-5cef-467a-8c54-8af218908dda",
   "metadata": {},
   "outputs": [],
   "source": [
    "df.dtypes"
   ]
  },
  {
   "cell_type": "code",
   "execution_count": null,
   "id": "11480c2f-63c6-4c38-adb6-4fce56affcdb",
   "metadata": {},
   "outputs": [],
   "source": [
    "df.nunique()"
   ]
  },
  {
   "cell_type": "code",
   "execution_count": null,
   "id": "4e115c72-e2b8-4fe8-953d-eca2f7f14811",
   "metadata": {},
   "outputs": [],
   "source": [
    "df.isnull()"
   ]
  },
  {
   "cell_type": "code",
   "execution_count": null,
   "id": "0c4f9517-651f-4a11-9cc3-e607974ef502",
   "metadata": {},
   "outputs": [],
   "source": [
    "df.isnull().sum()"
   ]
  },
  {
   "cell_type": "code",
   "execution_count": null,
   "id": "27e9f54c-2b5d-47bb-8286-5d26ce68261f",
   "metadata": {},
   "outputs": [],
   "source": [
    "df.drop(['Status', 'unnamed1'], axis=1, inplace=True,errors='ignore')\n",
    "pd.set_option('display.max.rows',11252)\n",
    "df"
   ]
  },
  {
   "cell_type": "code",
   "execution_count": null,
   "id": "da07ba01-8957-42a9-9c6b-eb317b1249c1",
   "metadata": {},
   "outputs": [],
   "source": [
    "df.dropna(inplace=True)"
   ]
  },
  {
   "cell_type": "code",
   "execution_count": null,
   "id": "e8a3d40f-2aa6-465e-9628-485485403445",
   "metadata": {},
   "outputs": [],
   "source": [
    "df.shape"
   ]
  },
  {
   "cell_type": "code",
   "execution_count": null,
   "id": "51c37c65-576a-4883-9c9a-c7584ec7337a",
   "metadata": {},
   "outputs": [],
   "source": [
    "df[['Age','Orders','Amount']].describe()"
   ]
  },
  {
   "cell_type": "markdown",
   "id": "b7ea2845-a481-4ab0-95e7-1616e23ab16d",
   "metadata": {},
   "source": [
    "# EDA"
   ]
  },
  {
   "cell_type": "code",
   "execution_count": null,
   "id": "94d1c895-0388-42e1-8b49-37ddc383c377",
   "metadata": {},
   "outputs": [],
   "source": [
    "ax = sns.countplot(x='Gender', data=df, palette=['purple', 'green'])\n",
    "plt.title('Total Sales by Gender')\n",
    "for bars in ax.containers:\n",
    "    ax.bar_label(bars)"
   ]
  },
  {
   "cell_type": "code",
   "execution_count": null,
   "id": "5994df5a-a5a5-42e8-b1db-e54f28ce0453",
   "metadata": {},
   "outputs": [],
   "source": [
    "sales_gender = df.groupby('Gender')['Amount'].sum().sort_values(ascending=False)\n",
    "sales_gender_df = sales_gender.reset_index()\n",
    "sns.barplot(x='Gender', y='Amount', data=sales_gender_df, palette=['purple', 'green'])\n",
    "plt.title('Total Sales Amount by Gender')\n",
    "for index, value in enumerate(sales_gender_df['Amount']):\n",
    "    plt.text(index, value + 1000, f'{int(value):,}', ha='center', va='bottom')\n",
    "plt.show()"
   ]
  },
  {
   "cell_type": "code",
   "execution_count": null,
   "id": "99ba6fbf-a811-4f83-9e4b-3f57e933e04f",
   "metadata": {},
   "outputs": [],
   "source": [
    "age_group_order = ['0-17','18-25','26-35','36-45','46-50','51-55','55+']\n",
    "ax = sns.countplot(x='Age Group', data=df, palette=['purple', 'green'],hue='Gender',order=age_group_order)\n",
    "plt.title('Total Sales by Age Group')\n",
    "for bars in ax.containers:\n",
    "    ax.bar_label(bars)"
   ]
  },
  {
   "cell_type": "code",
   "execution_count": null,
   "id": "eddc64a6-8198-4f48-abfc-92829553ea5b",
   "metadata": {},
   "outputs": [],
   "source": [
    "sales_age_group = df.groupby('Age Group')['Amount'].sum().sort_values(ascending=False)\n",
    "sales_age_group_df = sales_age_group.reset_index()\n",
    "sns.barplot(x='Age Group', y='Amount', data=sales_age_group_df, palette=['purple', 'green'])\n",
    "plt.title('Total Sales Amount by Age group')\n",
    "plt.show()"
   ]
  },
  {
   "cell_type": "code",
   "execution_count": null,
   "id": "5e270870-1e0c-44ff-95f5-7d9f215a5861",
   "metadata": {},
   "outputs": [],
   "source": [
    "sales_state = df.groupby('State')['Orders'].sum().sort_values(ascending=False).head(10)\n",
    "sales_state_df = sales_state.reset_index()\n",
    "plt.figure(figsize=(20, 6))\n",
    "sns.barplot(x='State', y='Orders', data=sales_state_df)\n",
    "plt.ylabel('Total Orders')\n",
    "plt.xlabel('States')\n",
    "plt.title('Top 10 States by Orders')\n",
    "plt.show()"
   ]
  },
  {
   "cell_type": "code",
   "execution_count": null,
   "id": "db2ab4a3-d0a7-4d75-b6c3-8a0d437dd129",
   "metadata": {},
   "outputs": [],
   "source": [
    "sales_state = df.groupby('State')['Orders'].sum().sort_values(ascending=False).tail(10)\n",
    "sales_state_df = sales_state.reset_index()\n",
    "plt.figure(figsize=(20, 6))\n",
    "sns.barplot(x='State', y='Orders', data=sales_state_df)\n",
    "plt.ylabel('Total Orders')\n",
    "plt.xlabel('States')\n",
    "plt.title('Bottom 10 States by Orders ')\n",
    "plt.show()"
   ]
  },
  {
   "cell_type": "code",
   "execution_count": null,
   "id": "050e1c8e-fe89-45cc-bcfa-2c5c45e2769e",
   "metadata": {},
   "outputs": [],
   "source": [
    "sales_state = df.groupby('State')['Amount'].sum().sort_values(ascending=False).head(10)\n",
    "sales_state_df = sales_state.reset_index()\n",
    "plt.figure(figsize=(20, 6))\n",
    "sns.barplot(x='State', y='Amount', data=sales_state_df)\n",
    "plt.ylabel('Total Amount')\n",
    "plt.xlabel('States')\n",
    "plt.title('Top 10 States by Amount')\n",
    "for index, value in enumerate(sales_state_df['Amount']):\n",
    "    plt.text(index, value + 1000, f'{int(value):,}', ha='center', va='bottom')\n",
    "plt.show()"
   ]
  },
  {
   "cell_type": "code",
   "execution_count": null,
   "id": "bc6afb36-4180-433f-9c8f-323a32f6d051",
   "metadata": {},
   "outputs": [],
   "source": [
    "sales_state = df.groupby('State')['Amount'].sum().sort_values(ascending=False).tail(10)\n",
    "sales_state_df = sales_state.reset_index()\n",
    "plt.figure(figsize=(20, 6))\n",
    "sns.barplot(x='State', y='Amount', data=sales_state_df)\n",
    "plt.ylabel('Total Amount')\n",
    "plt.xlabel('States')\n",
    "plt.title('Bottom 10 States by Amount')\n",
    "for index, value in enumerate(sales_state_df['Amount']):\n",
    "    plt.text(index, value + 1000, f'{int(value):,}', ha='center', va='bottom')\n",
    "plt.show()"
   ]
  },
  {
   "cell_type": "code",
   "execution_count": null,
   "id": "dac65dfa-fd8b-466b-8285-772c98188977",
   "metadata": {},
   "outputs": [],
   "source": [
    "sales_zone = df.groupby('Zone')['Orders'].sum().sort_values(ascending=False)\n",
    "sales_zone_df = sales_zone.reset_index()\n",
    "#plt.figure(figsize=(20, 6))\n",
    "sns.barplot(x='Zone', y='Orders', data=sales_zone_df)\n",
    "plt.ylabel('Total Orders')\n",
    "plt.xlabel('Zones')\n",
    "plt.title('Top 10 Zones by Orders')\n",
    "plt.show()"
   ]
  },
  {
   "cell_type": "code",
   "execution_count": null,
   "id": "082425f9-25df-415b-bd6f-71a6fde4b978",
   "metadata": {},
   "outputs": [],
   "source": [
    "sales_zone = df.groupby('Zone')['Amount'].sum().sort_values(ascending=False)\n",
    "sales_zone_df = sales_zone.reset_index()\n",
    "#plt.figure(figsize=(20, 6))\n",
    "sns.barplot(x='Zone', y='Amount', data=sales_zone_df)\n",
    "plt.ylabel('Total Amount')\n",
    "plt.xlabel('Zones')\n",
    "plt.title('Top 10 Zones by Amount of Sales')\n",
    "for index, value in enumerate(sales_zone_df['Amount']):\n",
    "    plt.text(index, value + 1000, f'{int(value):,}', ha='center', va='bottom')\n",
    "plt.show()"
   ]
  },
  {
   "cell_type": "code",
   "execution_count": null,
   "id": "679afb45-76d5-43f6-a11d-e125309c0248",
   "metadata": {},
   "outputs": [],
   "source": [
    "plt.figure(figsize=(20, 6))\n",
    "ax = sns.countplot(x='Occupation', data=df)\n",
    "for bars in ax.containers:\n",
    "    ax.bar_label(bars)"
   ]
  },
  {
   "cell_type": "code",
   "execution_count": null,
   "id": "6c9cf7bf-cec0-480b-aa5a-fd2b0e4c7526",
   "metadata": {},
   "outputs": [],
   "source": [
    "sales_occupation = df.groupby('Occupation')['Orders'].sum().sort_values(ascending=False)\n",
    "sales_occupation_df = sales_occupation.reset_index()\n",
    "plt.figure(figsize=(20, 6))\n",
    "sns.barplot(x='Occupation', y='Orders', data=sales_occupation_df)\n",
    "plt.ylabel('Total Orders')\n",
    "plt.xlabel('Occupations')\n",
    "plt.title('Orders By Occupations')\n",
    "plt.show()"
   ]
  },
  {
   "cell_type": "code",
   "execution_count": null,
   "id": "898c93f5-b369-4020-89f3-bee35f8f4435",
   "metadata": {},
   "outputs": [],
   "source": [
    "sales_occupation = df.groupby('Occupation')['Amount'].sum().sort_values(ascending=False)\n",
    "sales_occupation_df = sales_occupation.reset_index()\n",
    "plt.figure(figsize=(20, 6))\n",
    "sns.barplot(x='Occupation', y='Amount', data=sales_occupation_df)\n",
    "plt.ylabel('Total Amount')\n",
    "plt.xlabel('Occupations')\n",
    "plt.title('Sales By Occupations')\n",
    "for index, value in enumerate(sales_occupation_df['Amount']):\n",
    "    plt.text(index, value + 1000, f'{int(value):,}', ha='center', va='bottom')\n",
    "plt.show()"
   ]
  },
  {
   "cell_type": "code",
   "execution_count": null,
   "id": "683f0261-65b0-4592-a432-2128f77f0457",
   "metadata": {},
   "outputs": [],
   "source": [
    "plt.figure(figsize=(27, 6))\n",
    "ax = sns.countplot(x='Product_Category', data=df)\n",
    "for bars in ax.containers:\n",
    "    ax.bar_label(bars)"
   ]
  },
  {
   "cell_type": "code",
   "execution_count": null,
   "id": "5d4b2189-694e-4112-b251-f2eae634048e",
   "metadata": {},
   "outputs": [],
   "source": [
    "sales_product = df.groupby('Product_Category')['Orders'].sum().sort_values(ascending=False).head(10)\n",
    "sales_product_df = sales_product.reset_index()\n",
    "plt.figure(figsize=(20, 6))\n",
    "sns.barplot(x='Product_Category', y='Orders', data=sales_product_df)\n",
    "plt.ylabel('Total Orders')\n",
    "plt.xlabel('Product Category')\n",
    "plt.title('Top 10 Product Category by Orders')\n",
    "plt.show()"
   ]
  },
  {
   "cell_type": "code",
   "execution_count": null,
   "id": "0f480b7c-f775-48a5-8aba-f23822841b11",
   "metadata": {},
   "outputs": [],
   "source": [
    "sales_product = df.groupby('Product_Category')['Amount'].sum().sort_values(ascending=False).head(10)\n",
    "sales_product_df = sales_product.reset_index()\n",
    "plt.figure(figsize=(20, 6))\n",
    "sns.barplot(x='Product_Category', y='Amount', data=sales_product_df)\n",
    "plt.ylabel('Total Sales Amount')\n",
    "plt.xlabel('Product Category')\n",
    "plt.title('Top 10 Product Category by Amount')\n",
    "for index, value in enumerate(sales_product_df['Amount']):\n",
    "    plt.text(index, value + 1000, f'{int(value):,}', ha='center', va='bottom')\n",
    "plt.show()"
   ]
  },
  {
   "cell_type": "code",
   "execution_count": null,
   "id": "38761a41-3f4b-481a-a25d-f2ddf2e0caba",
   "metadata": {},
   "outputs": [],
   "source": [
    "ax = sns.countplot(x='Marital_Status',width=0.5,data=df, palette=['purple', 'green'])\n",
    "for bars in ax.containers:\n",
    "    ax.bar_label(bars)"
   ]
  },
  {
   "cell_type": "code",
   "execution_count": null,
   "id": "5765de05-af29-4dfb-b939-ac352a3a8741",
   "metadata": {},
   "outputs": [],
   "source": [
    "sales_marital_status = df.groupby(['Marital_Status','Gender'])['Orders'].sum().sort_values(ascending=False)\n",
    "sales_marital_status_df = sales_marital_status.reset_index()\n",
    "plt.figure(figsize=(10, 5))\n",
    "sns.barplot(x='Marital_Status', y='Orders',hue='Gender',width=0.5, data=sales_marital_status_df, palette=['purple','green'])\n",
    "plt.ylabel('Total Orders')\n",
    "plt.xlabel('Marital Status')\n",
    "plt.title('Orders by Marital Status')\n",
    "plt.show()"
   ]
  },
  {
   "cell_type": "code",
   "execution_count": null,
   "id": "23ba53a8-e30c-4791-8b31-8941aadb7148",
   "metadata": {},
   "outputs": [],
   "source": [
    "sales_marital_status = df.groupby(['Marital_Status','Gender'])['Amount'].sum().sort_values(ascending=False)\n",
    "sales_marital_status_df = sales_marital_status.reset_index()\n",
    "plt.figure(figsize=(10, 5))\n",
    "sns.barplot(x='Marital_Status', y='Amount',hue='Gender',width=0.5,data=sales_marital_status_df,palette=['purple','green'])\n",
    "plt.ylabel('Total Amount')\n",
    "plt.xlabel('Marital Status')\n",
    "plt.title('Amount by Marital Status')\n",
    "plt.show()"
   ]
  },
  {
   "cell_type": "code",
   "execution_count": null,
   "id": "3b6bdbd0-135c-4cd9-a608-29f3cc6c08bc",
   "metadata": {},
   "outputs": [],
   "source": []
  }
 ],
 "metadata": {
  "kernelspec": {
   "display_name": "Python 3 (ipykernel)",
   "language": "python",
   "name": "python3"
  },
  "language_info": {
   "codemirror_mode": {
    "name": "ipython",
    "version": 3
   },
   "file_extension": ".py",
   "mimetype": "text/x-python",
   "name": "python",
   "nbconvert_exporter": "python",
   "pygments_lexer": "ipython3",
   "version": "3.11.7"
  }
 },
 "nbformat": 4,
 "nbformat_minor": 5
}
